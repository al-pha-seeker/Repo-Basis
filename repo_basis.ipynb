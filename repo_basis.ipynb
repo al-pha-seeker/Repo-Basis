{
 "cells": [
  {
   "cell_type": "code",
   "execution_count": null,
   "id": "initial_id",
   "metadata": {
    "collapsed": true
   },
   "outputs": [],
   "source": [
    ""
   ]
  },
  {
   "metadata": {},
   "cell_type": "code",
   "outputs": [],
   "execution_count": null,
   "source": [
    "import pandas as pd, numpy as np, matplotlib.pyplot as plt\n",
    "from pathlib import Path\n",
    "base = Path('/mnt/data/repo-basis')\n",
    "gc = pd.read_csv(base/'data/gc_rate.csv', parse_dates=['date'])\n",
    "fut = pd.read_csv(base/'data/future_bund.csv', parse_dates=['date','expiry'])\n",
    "bond = pd.read_csv(base/'data/bond_ctd.csv', parse_dates=['date','coupon_next_date'])\n",
    "repo_isin = pd.read_csv(base/'data/repo_isin.csv', parse_dates=['date'])\n",
    "df = gc.merge(fut,on='date').merge(bond,on='date').merge(repo_isin,on='date')\n",
    "df['days_to_expiry'] = (df['expiry']-df['date']).dt.days.clip(lower=1)\n",
    "from importlib.machinery import SourceFileLoader\n",
    "repo = SourceFileLoader('repo', str(base/'src/repo.py')).load_module()\n",
    "signals = SourceFileLoader('signals', str(base/'src/signals.py')).load_module()\n",
    "irr = []\n",
    "for _,row in df.iterrows():\n",
    "    irr.append(repo.implied_repo_rate(row.F,row.CF,row.clean,row.AI,row.AI,int(row.days_to_expiry)))\n",
    "df['IRR'] = irr\n",
    "df['signal'] = [signals.signal_irr_vs_gc(i,g) for i,g in zip(df['IRR'],df['gc_on'])]\n",
    "df[['date','F','clean','AI','gc_on','IRR','signal']].head()"
   ],
   "id": "98e4bc8ed40e5fa4"
  }
 ],
 "metadata": {
  "kernelspec": {
   "display_name": "Python 3",
   "language": "python",
   "name": "python3"
  },
  "language_info": {
   "codemirror_mode": {
    "name": "ipython",
    "version": 2
   },
   "file_extension": ".py",
   "mimetype": "text/x-python",
   "name": "python",
   "nbconvert_exporter": "python",
   "pygments_lexer": "ipython2",
   "version": "2.7.6"
  }
 },
 "nbformat": 4,
 "nbformat_minor": 5
}
